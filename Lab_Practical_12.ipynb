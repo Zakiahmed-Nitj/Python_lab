{
 "cells": [
  {
   "cell_type": "code",
   "execution_count": 3,
   "id": "ebb17f34-e4d9-4779-86a7-c33505acb416",
   "metadata": {},
   "outputs": [
    {
     "name": "stdout",
     "output_type": "stream",
     "text": [
      "5\n",
      "GKTCSInnovation\n",
      "6\n",
      "GKTCSGKTCSGKTCS\n"
     ]
    }
   ],
   "source": [
    "# Operator overloading\n",
    "print(3+2)\n",
    "print(\"GKTCS\" + \"Innovation\")\n",
    "print(3*2)\n",
    "print(\"GKTCS\" * 3)"
   ]
  },
  {
   "cell_type": "code",
   "execution_count": 5,
   "id": "ddbd85ab-cbce-4a74-b667-eb76eabf7c89",
   "metadata": {},
   "outputs": [
    {
     "name": "stdout",
     "output_type": "stream",
     "text": [
      "In Employee Class\n",
      "In Employee Class\n",
      "In Company Class\n"
     ]
    }
   ],
   "source": [
    "# Method Overriding\n",
    "class Employee:\n",
    "    def message(self):\n",
    "        print(\"In Employee Class\")\n",
    "\n",
    "class Company(Employee):\n",
    "    pass\n",
    "\n",
    "class Company2(Employee):\n",
    "    def message(self):\n",
    "        print(\"In Company Class\")\n",
    "\n",
    "emp = Employee()\n",
    "emp.message()\n",
    "\n",
    "comp = Company()\n",
    "comp.message()\n",
    "\n",
    "comp2 = Company2()\n",
    "comp2.message()\n"
   ]
  },
  {
   "cell_type": "code",
   "execution_count": 7,
   "id": "de974a80-d813-4d56-bd6c-8b6eec39d1dc",
   "metadata": {},
   "outputs": [
    {
     "name": "stdin",
     "output_type": "stream",
     "text": [
      "Enter the numerator:  4\n",
      "Enter the denominator:  0\n"
     ]
    },
    {
     "name": "stdout",
     "output_type": "stream",
     "text": [
      "Invalid Value of Denominator(Zero)!\n"
     ]
    }
   ],
   "source": [
    "# WAP to handle the divide by zero exception\n",
    "try:\n",
    "    num = int(input(\"Enter the numerator: \"))\n",
    "    deno = int(input(\"Enter the denominator: \"))\n",
    "    q = num / deno\n",
    "    print('Quotient is: ', q)\n",
    "except ZeroDivisionError:\n",
    "    print(\"Invalid Value of Denominator(Zero)!\")\n",
    "except ValueError:\n",
    "    print(\"Values must be integers!!\")\n"
   ]
  },
  {
   "cell_type": "code",
   "execution_count": 8,
   "id": "7a20040a-36ee-4f67-bf2b-4cc40fdc2bfa",
   "metadata": {},
   "outputs": [
    {
     "name": "stdout",
     "output_type": "stream",
     "text": [
      "10\n",
      "Exception occurred\n"
     ]
    }
   ],
   "source": [
    "# Raise Exceptions\n",
    "try:\n",
    "    num = 10\n",
    "    print(num)\n",
    "    raise ValueError\n",
    "except:\n",
    "    print(\"Exception occurred\")\n"
   ]
  },
  {
   "cell_type": "code",
   "execution_count": 9,
   "id": "8850d68f-a4b5-4d03-b347-355513d13122",
   "metadata": {},
   "outputs": [
    {
     "name": "stdout",
     "output_type": "stream",
     "text": [
      "10\n",
      "<class 'ValueError'>\n",
      "()\n"
     ]
    }
   ],
   "source": [
    "# Instantiating Exceptions\n",
    "try:\n",
    "    num = 10\n",
    "    print(num)\n",
    "    raise ValueError\n",
    "except Exception as errorobj:\n",
    "    print(type(errorobj))\n",
    "    print(errorobj.args)\n"
   ]
  },
  {
   "cell_type": "code",
   "execution_count": 10,
   "id": "5a168c43-5e17-4a62-bf98-59bc6a505169",
   "metadata": {},
   "outputs": [
    {
     "name": "stdout",
     "output_type": "stream",
     "text": [
      "Average Marks: 86.25\n",
      "AssertionError: The list of marks cannot be empty!\n"
     ]
    }
   ],
   "source": [
    "# Program to demonstrate the use of assert keyword\n",
    "def calculate_average(marks):\n",
    "   \n",
    "    assert len(marks) > 0, \"The list of marks cannot be empty!\"\n",
    "    return sum(marks) / len(marks)\n",
    "\n",
    "try:\n",
    "    marks_list = [85, 90, 78, 92]\n",
    "    print(\"Average Marks:\", calculate_average(marks_list))\n",
    "    empty_list = []\n",
    "    print(\"Average Marks:\", calculate_average(empty_list))  \n",
    "except AssertionError as e:\n",
    "    print(\"AssertionError:\", e)\n"
   ]
  },
  {
   "cell_type": "code",
   "execution_count": 12,
   "id": "900aebe4-dc97-4329-883b-b49d0771a173",
   "metadata": {},
   "outputs": [
    {
     "name": "stdin",
     "output_type": "stream",
     "text": [
      "Enter the number:  5\n"
     ]
    },
    {
     "name": "stdout",
     "output_type": "stream",
     "text": [
      "25\n"
     ]
    }
   ],
   "source": [
    "# WAP that prompts the user to enter a number and prints the square of that number.\n",
    "# If no number is entered, then a KeyBoardInterrupt is generated\n",
    "\n",
    "try:\n",
    "    num = int(input(\"Enter the number: \"))\n",
    "    print(num * num)\n",
    "except KeyboardInterrupt:\n",
    "    print(\"Exception occurred\")\n"
   ]
  },
  {
   "cell_type": "code",
   "execution_count": 13,
   "id": "d11cd47e-7d41-4f56-8a53-73175006bcc2",
   "metadata": {},
   "outputs": [
    {
     "name": "stdout",
     "output_type": "stream",
     "text": [
      "1\n",
      "2\n",
      "3\n",
      "4\n",
      "5\n",
      "6\n",
      "7\n",
      "8\n",
      "9\n",
      "10\n",
      "11\n",
      "12\n",
      "13\n",
      "14\n",
      "15\n",
      "16\n",
      "17\n",
      "18\n",
      "19\n",
      "20\n",
      "Infinite loop count exceeded 20!\n"
     ]
    }
   ],
   "source": [
    "# WAP which infinitely prints natural numbers.\n",
    "# Raise the StopIterationException after displaying first 20 numbers to exit from the program\n",
    "\n",
    "i = 1\n",
    "try:\n",
    "    while True:\n",
    "        print(i)\n",
    "        if i >= 20:\n",
    "            raise StopIteration\n",
    "        i += 1\n",
    "except StopIteration:\n",
    "    print(\"Infinite loop count exceeded 20!\")\n"
   ]
  },
  {
   "cell_type": "code",
   "execution_count": 14,
   "id": "4553ff94-fb20-473c-9030-480390aa30b1",
   "metadata": {},
   "outputs": [
    {
     "name": "stdout",
     "output_type": "stream",
     "text": [
      "0.02944721405285533\n",
      "UserDefinedException raised as the value is less than 0.1\n"
     ]
    }
   ],
   "source": [
    "# WAP that randomly generates a number and raises a UserDefined exception if the number is below 0.1\n",
    "\n",
    "import random\n",
    "\n",
    "class UserDefinedException(Exception):\n",
    "    pass\n",
    "\n",
    "a = random.random()\n",
    "try:\n",
    "    print(a)\n",
    "    if a < 0.1:\n",
    "        raise UserDefinedException\n",
    "except UserDefinedException:\n",
    "    print(\"UserDefinedException raised as the value is less than 0.1\")\n"
   ]
  },
  {
   "cell_type": "code",
   "execution_count": null,
   "id": "c682ba5a-3769-43bf-aca1-bbdb04f72fdc",
   "metadata": {},
   "outputs": [],
   "source": []
  }
 ],
 "metadata": {
  "kernelspec": {
   "display_name": "Python 3 (ipykernel)",
   "language": "python",
   "name": "python3"
  },
  "language_info": {
   "codemirror_mode": {
    "name": "ipython",
    "version": 3
   },
   "file_extension": ".py",
   "mimetype": "text/x-python",
   "name": "python",
   "nbconvert_exporter": "python",
   "pygments_lexer": "ipython3",
   "version": "3.12.5"
  }
 },
 "nbformat": 4,
 "nbformat_minor": 5
}
